{
 "cells": [
  {
   "cell_type": "code",
   "execution_count": 1,
   "id": "ebc6a1ec",
   "metadata": {},
   "outputs": [],
   "source": [
    "# Importing Libraries\n",
    "import matplotlib\n",
    "import matplotlib.pyplot as plt\n",
    "import pandas as pd\n",
    "import numpy as np\n",
    "import sklearn\n",
    "\n",
    "# Preprocessing purpose\n",
    "from sklearn.preprocessing import StandardScaler\n",
    "from sklearn.preprocessing import LabelEncoder\n",
    "\n",
    "# Splitting Data\n",
    "from sklearn.model_selection import train_test_split\n",
    "\n",
    "# For Decision tree, accuracy, Classification Report, Confusion Matrix\n",
    "from sklearn import metrics\n",
    "from sklearn import tree\n",
    "\n",
    "# Mail Notification\n",
    "import smtplib\n",
    "from email.mime.text import MIMEText\n",
    "from email.mime.multipart import MIMEMultipart\n",
    "\n",
    "# Ignore warnings\n",
    "import warnings\n",
    "warnings.filterwarnings('ignore')"
   ]
  },
  {
   "cell_type": "code",
   "execution_count": 2,
   "id": "1722ed4d",
   "metadata": {},
   "outputs": [],
   "source": [
    "# Uploading datasets for training,testing and prediction\n",
    "def readData():\n",
    "    dataset = pd.read_csv('./Datasets/UNSW_NB15_training-set.csv')\n",
    "    return dataset"
   ]
  },
  {
   "cell_type": "code",
   "execution_count": 3,
   "id": "e9fb7ebf",
   "metadata": {},
   "outputs": [],
   "source": [
    "def standardScaling(dataset):\n",
    "    SS = StandardScaler()\n",
    "    # extract numerical attributes and scale it to have unit standard deviation \n",
    "    cols = dataset.select_dtypes(include=['float64','int64']).columns\n",
    "    intCols = SS.fit_transform(dataset.select_dtypes(include=['float64','int64']))\n",
    "    # turn the result back to a dataframe\n",
    "    intColsDf = pd.DataFrame(intCols, columns = cols)\n",
    "    return intColsDf"
   ]
  },
  {
   "cell_type": "code",
   "execution_count": 4,
   "id": "8b3823da",
   "metadata": {},
   "outputs": [],
   "source": [
    "def LabelEncoding(dataset):\n",
    "    LE = LabelEncoder()\n",
    "    # extract categorical attributes from both training and test sets\n",
    "    objCols = dataset.select_dtypes(include=['object']).copy()\n",
    "    # encode the categorical attributes\n",
    "    LEobjCols = objCols.apply(LE.fit_transform)\n",
    "    # separate target column from encoded data \n",
    "    encObjCols = LEobjCols.drop(['attack_cat'], axis=1)\n",
    "    return encObjCols"
   ]
  },
  {
   "cell_type": "code",
   "execution_count": 5,
   "id": "ed3b4857",
   "metadata": {},
   "outputs": [],
   "source": [
    "def mlTraining(train_x, train_y):\n",
    "    X_train,X_test,Y_train,Y_test = train_test_split(train_x,train_y,test_size=0.80, random_state=10)\n",
    "    DTC_Classifier = tree.DecisionTreeClassifier(criterion='entropy', random_state=0) #Decision Tree Classifier\n",
    "    DTC_Classifier.fit(X_train, Y_train)\n",
    "    return [DTC_Classifier, X_train, X_test, Y_train, Y_test]"
   ]
  },
  {
   "cell_type": "code",
   "execution_count": 6,
   "id": "d081752c",
   "metadata": {},
   "outputs": [],
   "source": [
    "dataset = readData()\n",
    "intCols = standardScaling(dataset)\n",
    "objCols = LabelEncoding(dataset)\n",
    "train_x = pd.concat([intCols, objCols],axis=1)\n",
    "train_y = dataset['attack_cat']\n",
    "trainingOutput = mlTraining(train_x, train_y)\n",
    "model = trainingOutput[0]\n",
    "X_train = trainingOutput[1]\n",
    "X_test = trainingOutput[2]\n",
    "Y_train = trainingOutput[3]\n",
    "Y_test = trainingOutput[4]"
   ]
  },
  {
   "cell_type": "code",
   "execution_count": 8,
   "id": "444efd91",
   "metadata": {},
   "outputs": [
    {
     "name": "stdout",
     "output_type": "stream",
     "text": [
      "\n",
      "============================== Decision Tree Classifier Model Evaluation ==============================\n",
      "Model Accuracy:\n",
      " 1.0\n",
      "\n",
      "Confusion matrix:\n",
      " [[ 128    0    0    0    0    0    0    0    0    0]\n",
      " [   0  116    0    0    0    0    0    0    0    0]\n",
      " [   0    0  767    0    0    0    0    0    0    0]\n",
      " [   0    0    0 2231    0    0    0    0    0    0]\n",
      " [   0    0    0    0 1248    0    0    0    0    0]\n",
      " [   0    0    0    0    0 3867    0    0    0    0]\n",
      " [   0    0    0    0    0    0 7305    0    0    0]\n",
      " [   0    0    0    0    0    0    0  713    0    0]\n",
      " [   0    0    0    0    0    0    0    0   82    0]\n",
      " [   0    0    0    0    0    0    0    0    0    9]]\n",
      "\n",
      "Classification report:\n",
      "                 precision    recall  f1-score   support\n",
      "\n",
      "      Analysis       1.00      1.00      1.00       128\n",
      "      Backdoor       1.00      1.00      1.00       116\n",
      "           DoS       1.00      1.00      1.00       767\n",
      "      Exploits       1.00      1.00      1.00      2231\n",
      "       Fuzzers       1.00      1.00      1.00      1248\n",
      "       Generic       1.00      1.00      1.00      3867\n",
      "        Normal       1.00      1.00      1.00      7305\n",
      "Reconnaissance       1.00      1.00      1.00       713\n",
      "     Shellcode       1.00      1.00      1.00        82\n",
      "         Worms       1.00      1.00      1.00         9\n",
      "\n",
      "      accuracy                           1.00     16466\n",
      "     macro avg       1.00      1.00      1.00     16466\n",
      "  weighted avg       1.00      1.00      1.00     16466\n",
      "\n",
      "\n"
     ]
    }
   ],
   "source": [
    "accuracy = metrics.accuracy_score(Y_train, model.predict(X_train))\n",
    "confusion_matrix = metrics.confusion_matrix(Y_train, model.predict(X_train))\n",
    "classification = metrics.classification_report(Y_train, model.predict(X_train))\n",
    "print()\n",
    "print('============================== Decision Tree Classifier Model Evaluation ==============================')\n",
    "print (\"Model Accuracy:\" \"\\n\", accuracy)\n",
    "print()\n",
    "print(\"Confusion matrix:\" \"\\n\", confusion_matrix)\n",
    "print()\n",
    "print(\"Classification report:\" \"\\n\", classification) \n",
    "print()"
   ]
  },
  {
   "cell_type": "code",
   "execution_count": 9,
   "id": "da065ebe",
   "metadata": {},
   "outputs": [
    {
     "name": "stdout",
     "output_type": "stream",
     "text": [
      "\n",
      "============================== Decision Tree Classifier Model Test Results ==============================\n",
      "\n",
      "Model Accuracy:\n",
      " 0.8758236419396958\n",
      "\n",
      "Confusion matrix:\n",
      " [[   56    96    98   182   111     0     0     6     0     0]\n",
      " [   81    29    70   175    94     7     0    10     1     0]\n",
      " [  137    88  1086  1472   255    86     0   164    33     1]\n",
      " [  190   170  1422  5988   519   174     0   332    83    23]\n",
      " [  112   106   255   480  3718    37     0    44    60     2]\n",
      " [    0     4    67   153    52 14712     0     5    10     1]\n",
      " [    0     0     0     0     0     0 29695     0     0     0]\n",
      " [    3     5   153   277    42     3     0  2275    25     0]\n",
      " [    0     2    47    50    30    18     0    21   127     1]\n",
      " [    0     0     7    22     3     1     0     0     1     1]]\n",
      "\n",
      "Classification report:\n",
      "                 precision    recall  f1-score   support\n",
      "\n",
      "      Analysis       0.10      0.10      0.10       549\n",
      "      Backdoor       0.06      0.06      0.06       467\n",
      "           DoS       0.34      0.33      0.33      3322\n",
      "      Exploits       0.68      0.67      0.68      8901\n",
      "       Fuzzers       0.77      0.77      0.77      4814\n",
      "       Generic       0.98      0.98      0.98     15004\n",
      "        Normal       1.00      1.00      1.00     29695\n",
      "Reconnaissance       0.80      0.82      0.81      2783\n",
      "     Shellcode       0.37      0.43      0.40       296\n",
      "         Worms       0.03      0.03      0.03        35\n",
      "\n",
      "      accuracy                           0.88     65866\n",
      "     macro avg       0.51      0.52      0.52     65866\n",
      "  weighted avg       0.88      0.88      0.88     65866\n",
      "\n",
      "\n"
     ]
    }
   ],
   "source": [
    "test_accuracy = metrics.accuracy_score(Y_test, model.predict(X_test))\n",
    "test_confusion_matrix = metrics.confusion_matrix(Y_test, model.predict(X_test))\n",
    "classification = metrics.classification_report(Y_test, model.predict(X_test))\n",
    "print()\n",
    "print('============================== Decision Tree Classifier Model Test Results ==============================')\n",
    "print()\n",
    "print (\"Model Accuracy:\" \"\\n\", accuracy)\n",
    "print()\n",
    "print(\"Confusion matrix:\" \"\\n\", confusion_matrix)\n",
    "print()\n",
    "print(\"Classification report:\" \"\\n\", classification) \n",
    "print()        "
   ]
  },
  {
   "cell_type": "code",
   "execution_count": null,
   "id": "7ed29a25",
   "metadata": {},
   "outputs": [],
   "source": []
  }
 ],
 "metadata": {
  "kernelspec": {
   "display_name": "Python 3 (ipykernel)",
   "language": "python",
   "name": "python3"
  },
  "language_info": {
   "codemirror_mode": {
    "name": "ipython",
    "version": 3
   },
   "file_extension": ".py",
   "mimetype": "text/x-python",
   "name": "python",
   "nbconvert_exporter": "python",
   "pygments_lexer": "ipython3",
   "version": "3.11.3"
  }
 },
 "nbformat": 4,
 "nbformat_minor": 5
}
